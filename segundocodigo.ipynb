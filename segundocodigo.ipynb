{
  "nbformat": 4,
  "nbformat_minor": 0,
  "metadata": {
    "colab": {
      "name": "Untitled1.ipynb",
      "provenance": [],
      "authorship_tag": "ABX9TyMbPO7IjOkfMk4Wp+0izKX3",
      "include_colab_link": true
    },
    "kernelspec": {
      "name": "python3",
      "display_name": "Python 3"
    },
    "language_info": {
      "name": "python"
    }
  },
  "cells": [
    {
      "cell_type": "markdown",
      "metadata": {
        "id": "view-in-github",
        "colab_type": "text"
      },
      "source": [
        "<a href=\"https://colab.research.google.com/github/cast13/parcial3programacion/blob/main/segundocodigo.ipynb\" target=\"_parent\"><img src=\"https://colab.research.google.com/assets/colab-badge.svg\" alt=\"Open In Colab\"/></a>"
      ]
    },
    {
      "cell_type": "code",
      "execution_count": null,
      "metadata": {
        "id": "y_3P4CuALtdl"
      },
      "outputs": [],
      "source": [
        "from datetime import date\n",
        "\n",
        "class Persona:\n",
        "  nombre:str\n",
        "  nif:str\n",
        "  fechaNac:date\n",
        "\n",
        "class Jugador(Persona):\n",
        "  numFed:int\n",
        "\n",
        "  def __init__(self,persona:Persona)\n",
        "    self.Persona=persona"
      ]
    }
  ]
}