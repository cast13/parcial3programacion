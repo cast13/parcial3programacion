{
  "nbformat": 4,
  "nbformat_minor": 0,
  "metadata": {
    "colab": {
      "name": "Untitled0.ipynb",
      "provenance": [],
      "authorship_tag": "ABX9TyNBX/2855iJxZ1af4sFRlwg",
      "include_colab_link": true
    },
    "kernelspec": {
      "name": "python3",
      "display_name": "Python 3"
    },
    "language_info": {
      "name": "python"
    }
  },
  "cells": [
    {
      "cell_type": "markdown",
      "metadata": {
        "id": "view-in-github",
        "colab_type": "text"
      },
      "source": [
        "<a href=\"https://colab.research.google.com/github/cast13/parcial3programacion/blob/main/parcial3.ipynb\" target=\"_parent\"><img src=\"https://colab.research.google.com/assets/colab-badge.svg\" alt=\"Open In Colab\"/></a>"
      ]
    },
    {
      "cell_type": "code",
      "execution_count": null,
      "metadata": {
        "id": "GDMFsQw7KRer"
      },
      "outputs": [],
      "source": [
        "from datetime import date\n",
        "import pandas as pd\n",
        "\n",
        "class User\n",
        "\tdef __init__(self, userId, pasword, registerDate):\n",
        "\t\tself._userId = userId\n",
        "\t\tself._pasword = pasword\n",
        "\t\tself._registerDate = registerDate\n",
        "\t\t\n",
        "\n",
        "\tdef login(self, ):\n",
        "\t\tpass\n",
        "\n",
        "class Order:\n",
        "\tdef __init__(self, orderId, date, customerName, customerId):\n",
        "\t\tself._orderId = orderId\n",
        "\t\tself._date= date\n",
        "\t\tself._customerName = customerName\n",
        "\t\tself.t_customerId = customerId\n",
        "\t\t\n",
        "\tdef placeOrder(self, ):\n",
        "\t\tpass\n",
        "\n",
        "\n",
        "class Customer(User):\n",
        "\tdef __init__(self, name, address, email, customerId, acountBalance):\n",
        "\t\tself._name = name\n",
        "\t\tself._email = email\n",
        "\t\tself._address = address\n",
        "\t\tself._customerId = customerId\n",
        "        self._acountBalance = acountBalance\n",
        "\n",
        "\tdef register(self, ):\n",
        "\t\tpass\n",
        "\n",
        "    def purchase(self):\n",
        "\t\tpass\n",
        "\n",
        "class OrderDetyails:\n",
        "\tdef __init__(self, orderId, produtId, productName, quantity, unitCost, total):\n",
        "\t\tself._orderId= orderId\n",
        "\t\tself._productId= produtId\n",
        "\t\tself._productName= productName\n",
        "\t\tself._quantity= quantity\n",
        "\t\tself._unitCost= unitCost\n",
        "\t\tself._total= total\n",
        "\n",
        "\tdef calculate(self, ):\n",
        "\t\tpass\n",
        "\n",
        "class Administrador(User):\n",
        "\tdef __init__(self, name, address, email):\n",
        "\t\tself._name = name\n",
        "\t\tself._email=email\n",
        "\t\t\n",
        "\n",
        "\tdef updateProduct(self, ):\n",
        "\t\tpass"
      ]
    }
  ]
}